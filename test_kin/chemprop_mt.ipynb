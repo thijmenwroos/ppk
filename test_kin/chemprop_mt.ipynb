{
 "cells": [
  {
   "cell_type": "code",
   "execution_count": null,
   "metadata": {},
   "outputs": [],
   "source": [
    "# get rid of some chemprop warnings\n",
    "# import warnings\n",
    "\n",
    "# warnings.simplefilter(action='ignore', category=FutureWarning)"
   ]
  },
  {
   "cell_type": "code",
   "execution_count": null,
   "metadata": {},
   "outputs": [],
   "source": [
    "import os\n",
    "\n",
    "import pandas as pd\n",
    "\n",
    "# load the data\n",
    "df = pd.read_csv('/home/s2861704/ppk/test_kin/prep_storage/K200_EGFR_TEST.csv')\n",
    "\n",
    "display(df.head())"
   ]
  },
  {
   "cell_type": "code",
   "execution_count": null,
   "metadata": {},
   "outputs": [],
   "source": [
    "# pivot the dataframe to have the accession as columns\n",
    "df = df.pivot(index=\"SMILES\", columns=\"accession\", values=\"pchembl_value_Mean\")\n",
    "#df.columns.name = None\n",
    "df.reset_index(inplace=True)\n",
    "print(df.columns)\n",
    "\n",
    "display(df.head())\n",
    "#Teams message + delete smiles"
   ]
  },
  {
   "cell_type": "code",
   "execution_count": null,
   "metadata": {},
   "outputs": [],
   "source": [
    "# print(len(df))\n",
    "# max_Nans = len(df) - 30\n",
    "# print(max_Nans)"
   ]
  },
  {
   "cell_type": "code",
   "execution_count": null,
   "metadata": {},
   "outputs": [],
   "source": [
    "# df_noempty = df\n",
    "# df_noempty = df_noempty.drop(list(df.columns[df.isna().sum() > max_Nans]), axis=1)\n",
    "# df = df_noempty.copy()\n",
    "# display(df)"
   ]
  },
  {
   "cell_type": "code",
   "execution_count": null,
   "metadata": {},
   "outputs": [],
   "source": [
    "column_list = list(df.columns)\n",
    "print (column_list)"
   ]
  },
  {
   "cell_type": "code",
   "execution_count": null,
   "metadata": {},
   "outputs": [],
   "source": [
    "del column_list[0:1]\n",
    "print(column_list)"
   ]
  },
  {
   "cell_type": "code",
   "execution_count": null,
   "metadata": {},
   "outputs": [],
   "source": [
    "from qsprpred.data import QSPRDataset\n",
    "from sklearn.impute import SimpleImputer\n",
    "\n",
    "target_props = []\n",
    "for target in column_list:\n",
    "    target_props.append({'name': target, 'task': \"REGRESSION\"})"
   ]
  },
  {
   "cell_type": "code",
   "execution_count": null,
   "metadata": {},
   "outputs": [],
   "source": [
    "print(target_props)"
   ]
  },
  {
   "cell_type": "code",
   "execution_count": null,
   "metadata": {},
   "outputs": [],
   "source": [
    "dataset = QSPRDataset(\n",
    "    name=\"ChempropMTTestDataset\",\n",
    "    df=df,\n",
    "    target_props=target_props,\n",
    "    store_dir=\"/home/s2861704/ppk/test_kin/test_output/MT/data\",\n",
    "    random_state=42,\n",
    "    drop_empty=False,\n",
    "    overwrite=True\n",
    ")\n",
    "\n",
    "dataset.getDF()"
   ]
  },
  {
   "cell_type": "code",
   "execution_count": null,
   "metadata": {},
   "outputs": [],
   "source": [
    "from qsprpred.data import QSPRDataset, RandomSplit\n",
    "from qsprpred.data.descriptors.fingerprints import MorganFP\n",
    "from qsprpred.data.descriptors.sets import SmilesDesc\n",
    "from qsprpred.data.sampling.splits import GBMTRandomSplit, GBMTDataSplit\n",
    "\n",
    "feature_calculators = [SmilesDesc(), MorganFP(radius=3, nBits=2048)]\n",
    "dataset.prepareDataset(\n",
    "    split=RandomSplit(test_fraction=0.2, dataset=dataset),\n",
    "    feature_calculators=feature_calculators,\n",
    "    recalculate_features=True,\n",
    ")\n",
    "\n",
    "dataset.getDF().head()"
   ]
  },
  {
   "cell_type": "code",
   "execution_count": null,
   "metadata": {},
   "outputs": [],
   "source": [
    "from qsprpred.extra.gpu.models.chemprop import ChempropModel\n",
    "\n",
    "ChempropModel.getAvailableParameters()"
   ]
  },
  {
   "cell_type": "code",
   "execution_count": null,
   "metadata": {},
   "outputs": [],
   "source": [
    "# Create model\n",
    "os.makedirs(\"/home/s2861704/ppk/test_kin/test_output/MT/models\", exist_ok=True)\n",
    "model = ChempropModel(\n",
    "    base_dir='/home/s2861704/ppk/test_kin/test_output/MT/models',\n",
    "    name='ChempropMTTestModel',\n",
    "    parameters={\"epochs\": 5},\n",
    "    quiet_logger=False\n",
    ")"
   ]
  },
  {
   "cell_type": "code",
   "execution_count": null,
   "metadata": {},
   "outputs": [],
   "source": [
    "from qsprpred.models import SklearnMetrics, MaskedMetric\n",
    "from qsprpred.plotting import regression\n",
    "from qsprpred.tasks import ModelTasks\n",
    "import numpy as np\n",
    "\n",
    "r2_score=SklearnMetrics('r2')\n",
    "masked_metric=MaskedMetric(metric=SklearnMetrics('r2'))"
   ]
  },
  {
   "cell_type": "code",
   "execution_count": null,
   "metadata": {},
   "outputs": [],
   "source": [
    "from qsprpred.models import CrossValAssessor, TestSetAssessor\n",
    "from qsprpred.models.early_stopping import EarlyStoppingMode\n",
    "\n",
    "# We can now assess the model performance on the training set using cross validation\n",
    "CrossValAssessor(masked_metric, split_multitask_scores=True)(model, dataset)\n",
    "\n",
    "# and on the test set\n",
    "TestSetAssessor(masked_metric, split_multitask_scores=True)(model, dataset)\n",
    "\n",
    "# Finally, we need to fit the model on the complete dataset if we want to use it further\n",
    "# This will save the fitted model and metadata to disk\n",
    "model.earlyStopping.numEpochs = 20\n",
    "model.fitDataset(dataset, mode=EarlyStoppingMode.FIXED)\n",
    "\n",
    "# We can optionally save the model and metadata to disk explicitly as well\n",
    "_ = model.save()"
   ]
  },
  {
   "cell_type": "code",
   "execution_count": null,
   "metadata": {},
   "outputs": [],
   "source": [
    "import pandas as pd\n",
    "from sklearn.metrics import explained_variance_score, mean_absolute_error, \\\n",
    "    mean_squared_error, r2_score\n",
    "import math\n",
    "\n",
    "# get independent test set\n",
    "df = pd.read_table(\n",
    "    \"/home/s2861704/ppk/test_kin/test_output/MT/models/ChempropMTTestModel/ChempropMTTestModel.ind.tsv\")\n",
    "\n",
    "# filling NaN-values with fillna() makes the code work, but results in the same issues imputation has. next step to try: individual target plotting\n",
    "# df = df.fillna(0)\n",
    "\n",
    "# column names containing original labels or predictions for the tasks\n",
    "label_names = [i for i in list(df.columns.values) if \"Label\" in i]\n",
    "pred_names = [i for i in list(df.columns.values) if \"Prediction\" in i]\n",
    "\n",
    "# turn into np array\n",
    "ylabel = df[label_names].to_numpy()\n",
    "ypred = df[pred_names].to_numpy()\n",
    "\n",
    "# get metrics\n",
    "summary = {}\n",
    "for metric in [explained_variance_score, mean_absolute_error, mean_squared_error,\n",
    "               r2_score]:\n",
    "    score = metric(ylabel, ypred)\n",
    "    summary[metric.__name__] = score\n",
    "\n",
    "summary[\"ModelName\"] = model.name\n",
    "\n",
    "summary"
   ]
  },
  {
   "cell_type": "code",
   "execution_count": null,
   "metadata": {},
   "outputs": [],
   "source": [
    "from plotting_regression_MT import CorrelationPlot\n",
    "\n",
    "plot = CorrelationPlot([model])\n",
    "axes, summary = plot.make(save=False, show=True)"
   ]
  },
  {
   "cell_type": "code",
   "execution_count": null,
   "metadata": {},
   "outputs": [],
   "source": [
    "summary"
   ]
  }
 ],
 "metadata": {
  "kernelspec": {
   "display_name": "drugex_env",
   "language": "python",
   "name": "python3"
  },
  "language_info": {
   "codemirror_mode": {
    "name": "ipython",
    "version": 3
   },
   "file_extension": ".py",
   "mimetype": "text/x-python",
   "name": "python",
   "nbconvert_exporter": "python",
   "pygments_lexer": "ipython3",
   "version": "3.12.7"
  }
 },
 "nbformat": 4,
 "nbformat_minor": 2
}
