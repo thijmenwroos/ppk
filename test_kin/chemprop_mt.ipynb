{
 "cells": [
  {
   "cell_type": "code",
   "execution_count": null,
   "metadata": {},
   "outputs": [],
   "source": [
    "# get rid of some chemprop warnings\n",
    "# import warnings\n",
    "\n",
    "# warnings.simplefilter(action='ignore', category=FutureWarning)"
   ]
  },
  {
   "cell_type": "code",
   "execution_count": null,
   "metadata": {},
   "outputs": [],
   "source": [
    "import os\n",
    "\n",
    "import pandas as pd\n",
    "\n",
    "# load the data\n",
    "df = pd.read_csv('/home/s2861704/ppk/test_kin/prep_storage/test.csv')\n",
    "\n",
    "display(df.head())"
   ]
  },
  {
   "cell_type": "code",
   "execution_count": null,
   "metadata": {},
   "outputs": [],
   "source": [
    "# pivot the dataframe to have the accession as columns\n",
    "df = df.pivot(index=\"QSPRID\", columns=\"accession\", values=\"pchembl_value_Mean\")\n",
    "#df.columns.name = None\n",
    "#df.reset_index(inplace=True)\n",
    "print(df.columns)\n",
    "\n",
    "display(df.head())\n",
    "#Teams message + delete smiles"
   ]
  },
  {
   "cell_type": "code",
   "execution_count": null,
   "metadata": {},
   "outputs": [],
   "source": [
    "column_list = list(df.columns)\n",
    "print (column_list)"
   ]
  },
  {
   "cell_type": "code",
   "execution_count": null,
   "metadata": {},
   "outputs": [],
   "source": [
    "from qsprpred.data import QSPRDataset\n",
    "from sklearn.impute import SimpleImputer\n",
    "\n",
    "target_props = []\n",
    "for target in column_list:\n",
    "    target_props.append({'name': target, 'task': \"REGRESSION\"})"
   ]
  },
  {
   "cell_type": "code",
   "execution_count": null,
   "metadata": {},
   "outputs": [],
   "source": [
    "dataset = QSPRDataset(\n",
    "    name=\"ChempropMTDataset\",\n",
    "    df=df,\n",
    "    target_props=target_props,\n",
    "    store_dir=\"../../ChMT_output/data\",\n",
    "    random_state=42,\n",
    "    # drop_empty=False,\n",
    ")\n",
    "\n",
    "dataset.getDF()"
   ]
  },
  {
   "cell_type": "code",
   "execution_count": null,
   "metadata": {},
   "outputs": [],
   "source": [
    "from qsprpred.extra.gpu.models.chemprop import ChempropModel\n",
    "\n",
    "ChempropModel.getAvailableParameters()"
   ]
  },
  {
   "cell_type": "code",
   "execution_count": null,
   "metadata": {},
   "outputs": [],
   "source": [
    "# Create model\n",
    "os.makedirs(\"../../ChMT_output/models\", exist_ok=True)\n",
    "model = ChempropModel(\n",
    "    base_dir='../../ChMT_output/models',\n",
    "    name='ChempropMTModel',\n",
    "    parameters={\"epochs\": 5},\n",
    "    quiet_logger=False\n",
    ")"
   ]
  },
  {
   "cell_type": "code",
   "execution_count": null,
   "metadata": {},
   "outputs": [],
   "source": [
    "from qsprpred.models import CrossValAssessor, TestSetAssessor\n",
    "from qsprpred.models.early_stopping import EarlyStoppingMode\n",
    "\n",
    "# We can now assess the model performance on the training set using cross validation\n",
    "CrossValAssessor('r2')(model, dataset)\n",
    "\n",
    "# and on the test set\n",
    "TestSetAssessor('r2')(model, dataset)\n",
    "\n",
    "# Finally, we need to fit the model on the complete dataset if we want to use it further\n",
    "# This will save the fitted model and metadata to disk\n",
    "model.earlyStopping.numEpochs = 5\n",
    "model.fitDataset(dataset, mode=EarlyStoppingMode.FIXED)\n",
    "\n",
    "# We can optionally save the model and metadata to disk explicitly as well\n",
    "_ = model.save()"
   ]
  },
  {
   "cell_type": "code",
   "execution_count": null,
   "metadata": {},
   "outputs": [],
   "source": [
    "from qsprpred.plotting.regression import CorrelationPlot\n",
    "\n",
    "plot = CorrelationPlot([model])\n",
    "axes, summary = plot.make(save=False, show=True)"
   ]
  },
  {
   "cell_type": "code",
   "execution_count": null,
   "metadata": {},
   "outputs": [],
   "source": [
    "summary"
   ]
  }
 ],
 "metadata": {
  "kernelspec": {
   "display_name": "drugex_env",
   "language": "python",
   "name": "python3"
  },
  "language_info": {
   "name": "python",
   "version": "3.12.7"
  }
 },
 "nbformat": 4,
 "nbformat_minor": 2
}
