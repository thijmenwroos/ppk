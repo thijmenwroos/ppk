{
 "cells": [
  {
   "cell_type": "code",
   "execution_count": null,
   "metadata": {},
   "outputs": [],
   "source": [
    "import os\n",
    "import pandas as pd"
   ]
  },
  {
   "cell_type": "code",
   "execution_count": null,
   "metadata": {},
   "outputs": [],
   "source": [
    "stdf=pd.read_csv('/home/s2861704/ppk/test_kin/prep_storage/test.csv', sep=',')\n",
    "display(stdf)"
   ]
  },
  {
   "cell_type": "code",
   "execution_count": null,
   "metadata": {},
   "outputs": [],
   "source": [
    "from qsprpred.data import QSPRDataset\n",
    "import os\n",
    "\n",
    "os.makedirs(\"prep_storage/data\", exist_ok=True)\n",
    "\n",
    "stdataset = QSPRDataset(\n",
    "    df=stdf,\n",
    "    store_dir=\"prep_storage/data\",\n",
    "    name=\"SingleTaskDataset\",\n",
    "    target_props=[{\"name\": \"pchembl_value_Mean\", \"task\": \"REGRESSION\"}],\n",
    "    random_state=42,\n",
    "    overwrite=True\n",
    ")\n",
    "\n",
    "stdataset.getDF()"
   ]
  },
  {
   "cell_type": "code",
   "execution_count": null,
   "metadata": {},
   "outputs": [],
   "source": [
    "from qsprpred.data.descriptors.fingerprints import MorganFP\n",
    "from qsprpred.data import RandomSplit\n",
    "\n",
    "# Specifiy random split for creating the train (80%) and test set (20%)\n",
    "rand_split = RandomSplit(test_fraction=0.2, dataset=stdataset)\n",
    "## Alt splits: ScaffoldSplit(/ter), TemporalSplit/StratisfiedSplitter, ManualSplit, BootstrapSplit,\n",
    "## GMBTDataSplit: GBMTRandomSplit, ClusterSplit\n",
    "# calculate compound features and split dataset into train and test\n",
    "stdataset.prepareDataset(\n",
    "    split=rand_split,\n",
    "    feature_calculators=[MorganFP(radius=3, nBits=2048)],\n",
    ")\n",
    "\n",
    "print(f\"Number of samples in train set: {len(stdataset.y)}\")\n",
    "print(f\"Number of samples in test set: {len(stdataset.y_ind)}\")\n",
    "\n",
    "stdataset.save()"
   ]
  },
  {
   "cell_type": "code",
   "execution_count": null,
   "metadata": {},
   "outputs": [],
   "source": [
    "from qsprpred.models import SklearnModel\n",
    "from sklearn.neighbors import KNeighborsRegressor\n",
    "from qsprpred.models import CrossValAssessor, TestSetAssessor\n",
    "\n",
    "os.makedirs(\"prep_storage/models\", exist_ok=True)\n",
    "\n",
    "# This is an SKlearn model, so we will initialize it with the SklearnModel class\n",
    "stmodel = SklearnModel(\n",
    "    base_dir=\"prep_storage/models\",\n",
    "    alg=KNeighborsRegressor,\n",
    "    name=\"SingleTaskModel\"\n",
    ")\n",
    "\n",
    "# We can now assess the model performance on the training set using cross validation\n",
    "CrossValAssessor(\"r2\")(stmodel, stdataset)\n",
    "\n",
    "# and on the test set\n",
    "TestSetAssessor(\"r2\")(stmodel, stdataset)\n",
    "\n",
    "# Finally, we need to fit the model on the complete dataset if we want to use it further\n",
    "# This will save the fitted model and metadata to disk\n",
    "stmodel.fitDataset(stdataset)\n",
    "\n",
    "# We can optionally save the model and metadata to disk explicitly as well\n",
    "_ = stmodel.save()"
   ]
  },
  {
   "cell_type": "code",
   "execution_count": null,
   "metadata": {},
   "outputs": [],
   "source": [
    "from qsprpred.plotting.regression import CorrelationPlot\n",
    "\n",
    "plot = CorrelationPlot([stmodel])\n",
    "axes, summary = plot.make(save=True, show=True)"
   ]
  },
  {
   "cell_type": "code",
   "execution_count": null,
   "metadata": {},
   "outputs": [],
   "source": [
    "summary"
   ]
  }
 ],
 "metadata": {
  "kernelspec": {
   "display_name": "drugex_env",
   "language": "python",
   "name": "python3"
  },
  "language_info": {
   "name": "python",
   "version": "3.12.7"
  }
 },
 "nbformat": 4,
 "nbformat_minor": 2
}
