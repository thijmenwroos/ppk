{
 "cells": [
  {
   "cell_type": "code",
   "execution_count": 1,
   "metadata": {},
   "outputs": [
    {
     "data": {
      "text/html": [
       "<style>\n",
       "table {align:left;display:block}\n",
       "</style>\n"
      ],
      "text/plain": [
       "<IPython.core.display.HTML object>"
      ]
     },
     "metadata": {},
     "output_type": "display_data"
    }
   ],
   "source": [
    "%%html\n",
    "<style>\n",
    "table {align:left;display:block}\n",
    "</style>"
   ]
  },
  {
   "cell_type": "code",
   "execution_count": 2,
   "metadata": {},
   "outputs": [],
   "source": [
    "from papyrus_scripts.download import download_papyrus\n"
   ]
  },
  {
   "cell_type": "code",
   "execution_count": 3,
   "metadata": {},
   "outputs": [
    {
     "name": "stdout",
     "output_type": "stream",
     "text": [
      "Latest version: 05.7\n",
      "########## DISCLAIMER ##########\n",
      "You are downloading the high-quality Papyrus++ dataset.\n",
      "Should you want to access the entire, though of lower quality, Papyrus dataset,\n",
      "look into additional switches of this command.\n",
      "################################\n",
      "Number of files to be downloaded: 7\n",
      "Total size: 2.26GB\n"
     ]
    },
    {
     "data": {
      "application/vnd.jupyter.widget-view+json": {
       "model_id": "410a7c51d6ce4ee595ebfd83f99547c5",
       "version_major": 2,
       "version_minor": 0
      },
      "text/plain": [
       "Downloading version 05.7:   0%|          | 0.00/2.26G [00:00<?, ?B/s]"
      ]
     },
     "metadata": {},
     "output_type": "display_data"
    }
   ],
   "source": [
    "download_papyrus(version='latest', structures=True, descriptors=['mold2', 'unirep'])"
   ]
  },
  {
   "cell_type": "code",
   "execution_count": 4,
   "metadata": {},
   "outputs": [],
   "source": [
    "from papyrus_scripts.reader import read_papyrus, read_protein_set"
   ]
  },
  {
   "cell_type": "code",
   "execution_count": 5,
   "metadata": {},
   "outputs": [],
   "source": [
    "from papyrus_scripts.preprocess import (keep_quality, keep_source, keep_type,\n",
    "                                        keep_organism, keep_accession, keep_protein_class,\n",
    "                                        keep_match, keep_contains\n",
    "                                       )"
   ]
  },
  {
   "cell_type": "code",
   "execution_count": 6,
   "metadata": {},
   "outputs": [
    {
     "data": {
      "text/html": [
       "<div>\n",
       "<style scoped>\n",
       "    .dataframe tbody tr th:only-of-type {\n",
       "        vertical-align: middle;\n",
       "    }\n",
       "\n",
       "    .dataframe tbody tr th {\n",
       "        vertical-align: top;\n",
       "    }\n",
       "\n",
       "    .dataframe thead th {\n",
       "        text-align: right;\n",
       "    }\n",
       "</style>\n",
       "<table border=\"1\" class=\"dataframe\">\n",
       "  <thead>\n",
       "    <tr style=\"text-align: right;\">\n",
       "      <th></th>\n",
       "      <th>target_id</th>\n",
       "      <th>UniProtID</th>\n",
       "      <th>Status</th>\n",
       "      <th>Organism</th>\n",
       "      <th>Classification</th>\n",
       "      <th>Length</th>\n",
       "      <th>Sequence</th>\n",
       "      <th>TID</th>\n",
       "    </tr>\n",
       "  </thead>\n",
       "  <tbody>\n",
       "    <tr>\n",
       "      <th>0</th>\n",
       "      <td>P47747_WT</td>\n",
       "      <td>HRH2_CAVPO</td>\n",
       "      <td>reviewed</td>\n",
       "      <td>Cavia porcellus (Guinea pig)</td>\n",
       "      <td>Membrane receptor-&gt;Family A G protein-coupled ...</td>\n",
       "      <td>359</td>\n",
       "      <td>MAFNGTVPSFCMDFTVYKVTISVILIILILVTVAGNVVVCLAVGLN...</td>\n",
       "      <td>ChEMBL:CHEMBL2882</td>\n",
       "    </tr>\n",
       "    <tr>\n",
       "      <th>1</th>\n",
       "      <td>B0FL73_WT</td>\n",
       "      <td>B0FL73_CAVPO</td>\n",
       "      <td>unreviewed</td>\n",
       "      <td>Cavia porcellus (Guinea pig)</td>\n",
       "      <td>Membrane receptor-&gt;Family A G protein-coupled ...</td>\n",
       "      <td>467</td>\n",
       "      <td>MGAGVLALGASEPCNLSSTAPLPDGAATAARLLVPASPPASLLPPT...</td>\n",
       "      <td>ChEMBL:CHEMBL5471</td>\n",
       "    </tr>\n",
       "    <tr>\n",
       "      <th>2</th>\n",
       "      <td>Q8K4Z4_WT</td>\n",
       "      <td>ADRB2_CAVPO</td>\n",
       "      <td>reviewed</td>\n",
       "      <td>Cavia porcellus (Guinea pig)</td>\n",
       "      <td>Membrane receptor-&gt;Family A G protein-coupled ...</td>\n",
       "      <td>418</td>\n",
       "      <td>MGHLGNGSDFLLAPNASHAPDHNVTRERDEAWVVGMAIVMSLIVLA...</td>\n",
       "      <td>ChEMBL:CHEMBL5414</td>\n",
       "    </tr>\n",
       "    <tr>\n",
       "      <th>3</th>\n",
       "      <td>P97266_WT</td>\n",
       "      <td>OPRM_CAVPO</td>\n",
       "      <td>reviewed</td>\n",
       "      <td>Cavia porcellus (Guinea pig)</td>\n",
       "      <td>Membrane receptor-&gt;Family A G protein-coupled ...</td>\n",
       "      <td>98</td>\n",
       "      <td>YTKMKTATNIYIFNLALADALATSTLPFQSVNYLMGTWPFGTILCK...</td>\n",
       "      <td>ChEMBL:CHEMBL4354;ChEMBL:CHEMBL2111465</td>\n",
       "    </tr>\n",
       "    <tr>\n",
       "      <th>4</th>\n",
       "      <td>P41144_WT</td>\n",
       "      <td>OPRK_CAVPO</td>\n",
       "      <td>reviewed</td>\n",
       "      <td>Cavia porcellus (Guinea pig)</td>\n",
       "      <td>Membrane receptor-&gt;Family A G protein-coupled ...</td>\n",
       "      <td>380</td>\n",
       "      <td>MGRRRQGPAQPASELPARNACLLPNGSAWLPGWAEPDGNGSAGPQD...</td>\n",
       "      <td>ChEMBL:CHEMBL3952;ChEMBL:CHEMBL2111465</td>\n",
       "    </tr>\n",
       "  </tbody>\n",
       "</table>\n",
       "</div>"
      ],
      "text/plain": [
       "   target_id     UniProtID      Status                      Organism  \\\n",
       "0  P47747_WT    HRH2_CAVPO    reviewed  Cavia porcellus (Guinea pig)   \n",
       "1  B0FL73_WT  B0FL73_CAVPO  unreviewed  Cavia porcellus (Guinea pig)   \n",
       "2  Q8K4Z4_WT   ADRB2_CAVPO    reviewed  Cavia porcellus (Guinea pig)   \n",
       "3  P97266_WT    OPRM_CAVPO    reviewed  Cavia porcellus (Guinea pig)   \n",
       "4  P41144_WT    OPRK_CAVPO    reviewed  Cavia porcellus (Guinea pig)   \n",
       "\n",
       "                                      Classification  Length  \\\n",
       "0  Membrane receptor->Family A G protein-coupled ...     359   \n",
       "1  Membrane receptor->Family A G protein-coupled ...     467   \n",
       "2  Membrane receptor->Family A G protein-coupled ...     418   \n",
       "3  Membrane receptor->Family A G protein-coupled ...      98   \n",
       "4  Membrane receptor->Family A G protein-coupled ...     380   \n",
       "\n",
       "                                            Sequence  \\\n",
       "0  MAFNGTVPSFCMDFTVYKVTISVILIILILVTVAGNVVVCLAVGLN...   \n",
       "1  MGAGVLALGASEPCNLSSTAPLPDGAATAARLLVPASPPASLLPPT...   \n",
       "2  MGHLGNGSDFLLAPNASHAPDHNVTRERDEAWVVGMAIVMSLIVLA...   \n",
       "3  YTKMKTATNIYIFNLALADALATSTLPFQSVNYLMGTWPFGTILCK...   \n",
       "4  MGRRRQGPAQPASELPARNACLLPNGSAWLPGWAEPDGNGSAGPQD...   \n",
       "\n",
       "                                      TID  \n",
       "0                       ChEMBL:CHEMBL2882  \n",
       "1                       ChEMBL:CHEMBL5471  \n",
       "2                       ChEMBL:CHEMBL5414  \n",
       "3  ChEMBL:CHEMBL4354;ChEMBL:CHEMBL2111465  \n",
       "4  ChEMBL:CHEMBL3952;ChEMBL:CHEMBL2111465  "
      ]
     },
     "execution_count": 6,
     "metadata": {},
     "output_type": "execute_result"
    }
   ],
   "source": [
    "protein_data = read_protein_set(source_path=None)\n",
    "protein_data.head()"
   ]
  },
  {
   "cell_type": "code",
   "execution_count": 7,
   "metadata": {},
   "outputs": [],
   "source": [
    "sample_data = read_papyrus(is3d=False, plusplus= True, source_path='/home/s2861704/ppk/papyrus_data')\n",
    "protein_data = read_protein_set(source_path=None)"
   ]
  },
  {
   "cell_type": "code",
   "execution_count": 8,
   "metadata": {},
   "outputs": [],
   "source": [
    "filter1_it = keep_quality(data=sample_data, min_quality='high')\n",
    "filter2_it = keep_protein_class(data=filter1_it, protein_data=protein_data, classes=[{'l4': 'Atypical protein kinase group'}])\n",
    "# filter3_it = keep_type(data=filter2_it, activity_types=['Ki', 'KD'])\n",
    "filter4_it = keep_organism(data=filter2_it, protein_data=protein_data, organism=['Human'], generic_regex=True)\n",
    "filter5_it = keep_source(data=filter4_it, source=['ChEMBL34', 'Sharma2016'])\n",
    "#filter6_it = keep_source(data=filter4_it, source=['Christmann2016'])"
   ]
  },
  {
   "cell_type": "code",
   "execution_count": 9,
   "metadata": {},
   "outputs": [],
   "source": [
    "## protein classes:\n",
    "# l2: Kinase\n",
    "# l3: Protein Kinase\n",
    "# l4: [CMGC / AGC / Other / STE / CAMK / TK / Atypical / TKL / CK1] protein kinase group\n",
    "# l5: family\n",
    "# l6: subfamily\n",
    "# LINK: https://static-content.springer.com/esm/art%3A10.1186%2Fs13321-022-00672-x/MediaObjects/13321_2022_672_MOESM3_ESM.html"
   ]
  },
  {
   "cell_type": "code",
   "execution_count": 10,
   "metadata": {},
   "outputs": [
    {
     "data": {
      "text/html": [
       "<div>\n",
       "<style scoped>\n",
       "    .dataframe tbody tr th:only-of-type {\n",
       "        vertical-align: middle;\n",
       "    }\n",
       "\n",
       "    .dataframe tbody tr th {\n",
       "        vertical-align: top;\n",
       "    }\n",
       "\n",
       "    .dataframe thead th {\n",
       "        text-align: right;\n",
       "    }\n",
       "</style>\n",
       "<table border=\"1\" class=\"dataframe\">\n",
       "  <thead>\n",
       "    <tr style=\"text-align: right;\">\n",
       "      <th></th>\n",
       "      <th>target_id</th>\n",
       "      <th>UniProtID</th>\n",
       "      <th>Status</th>\n",
       "      <th>Organism</th>\n",
       "      <th>Classification</th>\n",
       "      <th>Length</th>\n",
       "      <th>Sequence</th>\n",
       "      <th>TID</th>\n",
       "    </tr>\n",
       "  </thead>\n",
       "  <tbody>\n",
       "    <tr>\n",
       "      <th>0</th>\n",
       "      <td>P47747_WT</td>\n",
       "      <td>HRH2_CAVPO</td>\n",
       "      <td>reviewed</td>\n",
       "      <td>Cavia porcellus (Guinea pig)</td>\n",
       "      <td>Membrane receptor-&gt;Family A G protein-coupled ...</td>\n",
       "      <td>359</td>\n",
       "      <td>MAFNGTVPSFCMDFTVYKVTISVILIILILVTVAGNVVVCLAVGLN...</td>\n",
       "      <td>ChEMBL:CHEMBL2882</td>\n",
       "    </tr>\n",
       "    <tr>\n",
       "      <th>1</th>\n",
       "      <td>B0FL73_WT</td>\n",
       "      <td>B0FL73_CAVPO</td>\n",
       "      <td>unreviewed</td>\n",
       "      <td>Cavia porcellus (Guinea pig)</td>\n",
       "      <td>Membrane receptor-&gt;Family A G protein-coupled ...</td>\n",
       "      <td>467</td>\n",
       "      <td>MGAGVLALGASEPCNLSSTAPLPDGAATAARLLVPASPPASLLPPT...</td>\n",
       "      <td>ChEMBL:CHEMBL5471</td>\n",
       "    </tr>\n",
       "    <tr>\n",
       "      <th>2</th>\n",
       "      <td>Q8K4Z4_WT</td>\n",
       "      <td>ADRB2_CAVPO</td>\n",
       "      <td>reviewed</td>\n",
       "      <td>Cavia porcellus (Guinea pig)</td>\n",
       "      <td>Membrane receptor-&gt;Family A G protein-coupled ...</td>\n",
       "      <td>418</td>\n",
       "      <td>MGHLGNGSDFLLAPNASHAPDHNVTRERDEAWVVGMAIVMSLIVLA...</td>\n",
       "      <td>ChEMBL:CHEMBL5414</td>\n",
       "    </tr>\n",
       "    <tr>\n",
       "      <th>3</th>\n",
       "      <td>P97266_WT</td>\n",
       "      <td>OPRM_CAVPO</td>\n",
       "      <td>reviewed</td>\n",
       "      <td>Cavia porcellus (Guinea pig)</td>\n",
       "      <td>Membrane receptor-&gt;Family A G protein-coupled ...</td>\n",
       "      <td>98</td>\n",
       "      <td>YTKMKTATNIYIFNLALADALATSTLPFQSVNYLMGTWPFGTILCK...</td>\n",
       "      <td>ChEMBL:CHEMBL4354;ChEMBL:CHEMBL2111465</td>\n",
       "    </tr>\n",
       "    <tr>\n",
       "      <th>4</th>\n",
       "      <td>P41144_WT</td>\n",
       "      <td>OPRK_CAVPO</td>\n",
       "      <td>reviewed</td>\n",
       "      <td>Cavia porcellus (Guinea pig)</td>\n",
       "      <td>Membrane receptor-&gt;Family A G protein-coupled ...</td>\n",
       "      <td>380</td>\n",
       "      <td>MGRRRQGPAQPASELPARNACLLPNGSAWLPGWAEPDGNGSAGPQD...</td>\n",
       "      <td>ChEMBL:CHEMBL3952;ChEMBL:CHEMBL2111465</td>\n",
       "    </tr>\n",
       "  </tbody>\n",
       "</table>\n",
       "</div>"
      ],
      "text/plain": [
       "   target_id     UniProtID      Status                      Organism  \\\n",
       "0  P47747_WT    HRH2_CAVPO    reviewed  Cavia porcellus (Guinea pig)   \n",
       "1  B0FL73_WT  B0FL73_CAVPO  unreviewed  Cavia porcellus (Guinea pig)   \n",
       "2  Q8K4Z4_WT   ADRB2_CAVPO    reviewed  Cavia porcellus (Guinea pig)   \n",
       "3  P97266_WT    OPRM_CAVPO    reviewed  Cavia porcellus (Guinea pig)   \n",
       "4  P41144_WT    OPRK_CAVPO    reviewed  Cavia porcellus (Guinea pig)   \n",
       "\n",
       "                                      Classification  Length  \\\n",
       "0  Membrane receptor->Family A G protein-coupled ...     359   \n",
       "1  Membrane receptor->Family A G protein-coupled ...     467   \n",
       "2  Membrane receptor->Family A G protein-coupled ...     418   \n",
       "3  Membrane receptor->Family A G protein-coupled ...      98   \n",
       "4  Membrane receptor->Family A G protein-coupled ...     380   \n",
       "\n",
       "                                            Sequence  \\\n",
       "0  MAFNGTVPSFCMDFTVYKVTISVILIILILVTVAGNVVVCLAVGLN...   \n",
       "1  MGAGVLALGASEPCNLSSTAPLPDGAATAARLLVPASPPASLLPPT...   \n",
       "2  MGHLGNGSDFLLAPNASHAPDHNVTRERDEAWVVGMAIVMSLIVLA...   \n",
       "3  YTKMKTATNIYIFNLALADALATSTLPFQSVNYLMGTWPFGTILCK...   \n",
       "4  MGRRRQGPAQPASELPARNACLLPNGSAWLPGWAEPDGNGSAGPQD...   \n",
       "\n",
       "                                      TID  \n",
       "0                       ChEMBL:CHEMBL2882  \n",
       "1                       ChEMBL:CHEMBL5471  \n",
       "2                       ChEMBL:CHEMBL5414  \n",
       "3  ChEMBL:CHEMBL4354;ChEMBL:CHEMBL2111465  \n",
       "4  ChEMBL:CHEMBL3952;ChEMBL:CHEMBL2111465  "
      ]
     },
     "execution_count": 10,
     "metadata": {},
     "output_type": "execute_result"
    }
   ],
   "source": [
    "sample_data.head()\n",
    "protein_data.head()"
   ]
  },
  {
   "cell_type": "code",
   "execution_count": 11,
   "metadata": {},
   "outputs": [],
   "source": [
    "#from papyrus_scripts.preprocess import consume_chunks"
   ]
  },
  {
   "cell_type": "code",
   "execution_count": 12,
   "metadata": {},
   "outputs": [],
   "source": [
    "#filtered_data = consume_chunks(filter4_it, progress=True, total=60)\n",
    "filtered_data = filter5_it"
   ]
  },
  {
   "cell_type": "code",
   "execution_count": 13,
   "metadata": {},
   "outputs": [
    {
     "name": "stdout",
     "output_type": "stream",
     "text": [
      "Number of activity points: 3906\n"
     ]
    }
   ],
   "source": [
    "print(f'Number of activity points: {filtered_data.shape[0]}')"
   ]
  },
  {
   "cell_type": "code",
   "execution_count": 14,
   "metadata": {},
   "outputs": [],
   "source": [
    "# ACTIVITY POINTS HIGH QUALITY\n",
    "# CMGC: 25017\n",
    "# AGC: 8367\n",
    "# STE: 3156\n",
    "# CAMK: 4852\n",
    "# TK: 44032\n",
    "# TKL: 6471\n",
    "# CK1: 168\n",
    "# Atypical: 3906\n",
    "# Other: 6352\n",
    "# Total: 102444"
   ]
  },
  {
   "cell_type": "code",
   "execution_count": 15,
   "metadata": {},
   "outputs": [
    {
     "name": "stdout",
     "output_type": "stream",
     "text": [
      "3906\n",
      "1\n",
      "Index(['Activity_ID', 'Quality', 'source', 'CID', 'SMILES', 'connectivity',\n",
      "       'InChIKey', 'InChI', 'InChI_AuxInfo', 'target_id', 'TID', 'accession',\n",
      "       'Protein_Type', 'AID', 'doc_id', 'Year', 'all_doc_ids', 'all_years',\n",
      "       'type_IC50', 'type_EC50', 'type_KD', 'type_Ki', 'type_other',\n",
      "       'Activity_class', 'relation', 'pchembl_value', 'pchembl_value_Mean',\n",
      "       'pchembl_value_StdDev', 'pchembl_value_SEM', 'pchembl_value_N',\n",
      "       'pchembl_value_Median', 'pchembl_value_MAD', 'Classification',\n",
      "       'Organism'],\n",
      "      dtype='object')\n",
      "0               PMID:19894727\n",
      "3         DOI:10.1038/nbt1358\n",
      "6               PMID:24433860\n",
      "7               PMID:23855836\n",
      "8               PMID:23855836\n",
      "                ...          \n",
      "4539       PATENT:US8772480B2\n",
      "4540       PATENT:US9102670B2\n",
      "4541            PMID:34046605\n",
      "4547       PATENT:US8618111B2\n",
      "4548    PATENT:WO2015040425A1\n",
      "Name: doc_id, Length: 3906, dtype: object\n"
     ]
    }
   ],
   "source": [
    "print(len(filtered_data['source']))\n",
    "print(len(filtered_data['source'].unique()))\n",
    "print(filtered_data.columns)\n",
    "print(filtered_data['doc_id'])"
   ]
  },
  {
   "cell_type": "code",
   "execution_count": 16,
   "metadata": {},
   "outputs": [],
   "source": [
    "#filtered_data['source'].unique()"
   ]
  },
  {
   "cell_type": "code",
   "execution_count": 17,
   "metadata": {},
   "outputs": [
    {
     "name": "stdout",
     "output_type": "stream",
     "text": [
      "0\n",
      "3906\n",
      "3906\n",
      "0\n",
      "3906\n"
     ]
    }
   ],
   "source": [
    "print(len(filtered_data[filtered_data['source']=='Christmann2016']))\n",
    "print(len(filtered_data[filtered_data['source']!='Christmann2016']))\n",
    "print(len(filtered_data[filtered_data['source']=='ChEMBL34']))\n",
    "print(len(filtered_data[filtered_data['source']=='Sharma2016']))\n",
    "print(len(filtered_data))"
   ]
  },
  {
   "cell_type": "code",
   "execution_count": 18,
   "metadata": {},
   "outputs": [
    {
     "data": {
      "image/png": "[encoded data removed]",
      "text/plain": [
       "<Figure size 600x600 with 1 Axes>"
      ]
     },
     "metadata": {},
     "output_type": "display_data"
    }
   ],
   "source": [
    "import pandas as pd\n",
    "import matplotlib.pyplot as plt\n",
    "\n",
    "filtered_data.plot(kind = 'scatter', x = 'source', y = 'pchembl_value_Mean', s=0.001, figsize=(6,6))\n",
    "plt.ylim(2,12)\n",
    "plt.xlabel('Data source')\n",
    "plt.ylabel('pChEMBL')\n",
    "plt.title('pChEMBL distribution within Papyrus++ data sources')\n",
    "#plt.savefig('PapyrusKinDist-2301.png')\n",
    "plt.show()"
   ]
  },
  {
   "cell_type": "code",
   "execution_count": 19,
   "metadata": {},
   "outputs": [
    {
     "data": {
      "image/png": "[encoded data removed]",
      "text/plain": [
       "<Figure size 640x480 with 1 Axes>"
      ]
     },
     "metadata": {},
     "output_type": "display_data"
    }
   ],
   "source": [
    "import pandas as pd\n",
    "import seaborn as sns\n",
    "import matplotlib.pyplot as plt\n",
    "\n",
    "# load example dataset\n",
    "dpdf = filtered_data\n",
    "\n",
    "# create violin plot for height (horizontal)\n",
    "sns.violinplot(data=dpdf, x=\"source\", y=\"pchembl_value_Mean\")\n",
    "#plt.ylim(4,6)\n",
    "plt.xlabel('Data source')\n",
    "plt.ylabel('pChEMBL')\n",
    "plt.title('pChEMBL distribution within Papyrus++ data sources')\n",
    "#plt.savefig('PapyrusKinDist-CM2-violin-2301.png') \n",
    "plt.show()"
   ]
  },
  {
   "cell_type": "code",
   "execution_count": 21,
   "metadata": {},
   "outputs": [
    {
     "data": {
      "text/html": [
       "<div>\n",
       "<style scoped>\n",
       "    .dataframe tbody tr th:only-of-type {\n",
       "        vertical-align: middle;\n",
       "    }\n",
       "\n",
       "    .dataframe tbody tr th {\n",
       "        vertical-align: top;\n",
       "    }\n",
       "\n",
       "    .dataframe thead th {\n",
       "        text-align: right;\n",
       "    }\n",
       "</style>\n",
       "<table border=\"1\" class=\"dataframe\">\n",
       "  <thead>\n",
       "    <tr style=\"text-align: right;\">\n",
       "      <th></th>\n",
       "      <th>Activity_ID</th>\n",
       "      <th>Quality</th>\n",
       "      <th>source</th>\n",
       "      <th>CID</th>\n",
       "      <th>SMILES</th>\n",
       "      <th>connectivity</th>\n",
       "      <th>InChIKey</th>\n",
       "      <th>InChI</th>\n",
       "      <th>InChI_AuxInfo</th>\n",
       "      <th>target_id</th>\n",
       "      <th>...</th>\n",
       "      <th>relation</th>\n",
       "      <th>pchembl_value</th>\n",
       "      <th>pchembl_value_Mean</th>\n",
       "      <th>pchembl_value_StdDev</th>\n",
       "      <th>pchembl_value_SEM</th>\n",
       "      <th>pchembl_value_N</th>\n",
       "      <th>pchembl_value_Median</th>\n",
       "      <th>pchembl_value_MAD</th>\n",
       "      <th>Classification</th>\n",
       "      <th>Organism</th>\n",
       "    </tr>\n",
       "  </thead>\n",
       "  <tbody>\n",
       "    <tr>\n",
       "      <th>0</th>\n",
       "      <td>AAHPRKDUIDQODH_on_P42345_WT</td>\n",
       "      <td>High</td>\n",
       "      <td>ChEMBL34</td>\n",
       "      <td>ChEMBL:CHEMBL1097899</td>\n",
       "      <td>CN1CCC(NC(=O)Nc2ccc(-c3nc(N4CCOCC4)c4cnn(C5CCN...</td>\n",
       "      <td>AAHPRKDUIDQODH</td>\n",
       "      <td>AAHPRKDUIDQODH-UHFFFAOYSA-N</td>\n",
       "      <td>InChI=1S/C34H43N9O2/c1-40-15-11-28(12-16-40)37...</td>\n",
       "      <td>AuxInfo=1/1/N:1,35,34,36,33,37,12,42,11,43,4,4...</td>\n",
       "      <td>P42345_WT</td>\n",
       "      <td>...</td>\n",
       "      <td>=</td>\n",
       "      <td>6.9</td>\n",
       "      <td>6.900000</td>\n",
       "      <td>0.000000</td>\n",
       "      <td>0.000000</td>\n",
       "      <td>1.0</td>\n",
       "      <td>6.900</td>\n",
       "      <td>0.0</td>\n",
       "      <td>Enzyme-&gt;Kinase-&gt;Protein Kinase-&gt;Atypical prote...</td>\n",
       "      <td>Homo sapiens (Human)</td>\n",
       "    </tr>\n",
       "    <tr>\n",
       "      <th>3</th>\n",
       "      <td>AAKJLRGGTJKAMG_on_Q8NI60_WT</td>\n",
       "      <td>High</td>\n",
       "      <td>ChEMBL34</td>\n",
       "      <td>ChEMBL:CHEMBL553;Christmann2016.compound.50;Ch...</td>\n",
       "      <td>C#Cc1cccc(Nc2ncnc3cc(OCCOC)c(OCCOC)cc23)c1</td>\n",
       "      <td>AAKJLRGGTJKAMG</td>\n",
       "      <td>AAKJLRGGTJKAMG-UHFFFAOYSA-N</td>\n",
       "      <td>InChI=1S/C22H23N3O4/c1-4-16-6-5-7-17(12-16)25-...</td>\n",
       "      <td>AuxInfo=1/1/N:1,26,20,2,5,4,6,24,18,23,17,29,2...</td>\n",
       "      <td>Q8NI60_WT</td>\n",
       "      <td>...</td>\n",
       "      <td>=</td>\n",
       "      <td>5.72;5.721;5.721</td>\n",
       "      <td>5.720667</td>\n",
       "      <td>0.000577</td>\n",
       "      <td>0.000333</td>\n",
       "      <td>3.0</td>\n",
       "      <td>5.721</td>\n",
       "      <td>0.0</td>\n",
       "      <td>Enzyme-&gt;Kinase-&gt;Protein Kinase-&gt;Atypical prote...</td>\n",
       "      <td>Homo sapiens (Human)</td>\n",
       "    </tr>\n",
       "    <tr>\n",
       "      <th>6</th>\n",
       "      <td>AAMKUWYDJAVAKV_on_P42345_WT</td>\n",
       "      <td>High</td>\n",
       "      <td>ChEMBL34</td>\n",
       "      <td>ChEMBL:CHEMBL3112729</td>\n",
       "      <td>COc1ncc(-c2cc3c(C)nc(N)cc3n(C3CCCC3)c2=O)cc1NS...</td>\n",
       "      <td>AAMKUWYDJAVAKV</td>\n",
       "      <td>AAMKUWYDJAVAKV-UHFFFAOYSA-N</td>\n",
       "      <td>InChI=1S/C26H25F2N5O4S/c1-14-18-11-19(26(34)33...</td>\n",
       "      <td>AuxInfo=1/1/N:11,1,20,21,19,22,33,32,25,36,8,1...</td>\n",
       "      <td>P42345_WT</td>\n",
       "      <td>...</td>\n",
       "      <td>=</td>\n",
       "      <td>7.47</td>\n",
       "      <td>7.470000</td>\n",
       "      <td>0.000000</td>\n",
       "      <td>0.000000</td>\n",
       "      <td>1.0</td>\n",
       "      <td>7.470</td>\n",
       "      <td>0.0</td>\n",
       "      <td>Enzyme-&gt;Kinase-&gt;Protein Kinase-&gt;Atypical prote...</td>\n",
       "      <td>Homo sapiens (Human)</td>\n",
       "    </tr>\n",
       "    <tr>\n",
       "      <th>7</th>\n",
       "      <td>AATCBLYHOUOCTO_on_P42345_WT</td>\n",
       "      <td>High</td>\n",
       "      <td>ChEMBL34</td>\n",
       "      <td>ChEMBL:CHEMBL1086377</td>\n",
       "      <td>CCN1CCN(CC(=O)Nc2ccc(-c3cccc4c(=O)cc(N5CCOCC5)...</td>\n",
       "      <td>AATCBLYHOUOCTO</td>\n",
       "      <td>AATCBLYHOUOCTO-UHFFFAOYSA-N</td>\n",
       "      <td>InChI=1S/C33H34N4O4S/c1-2-35-12-14-36(15-13-35...</td>\n",
       "      <td>AuxInfo=1/1/N:1,2,37,36,17,38,16,18,35,13,12,4...</td>\n",
       "      <td>P42345_WT</td>\n",
       "      <td>...</td>\n",
       "      <td>=</td>\n",
       "      <td>5.0</td>\n",
       "      <td>5.000000</td>\n",
       "      <td>0.000000</td>\n",
       "      <td>0.000000</td>\n",
       "      <td>1.0</td>\n",
       "      <td>5.000</td>\n",
       "      <td>0.0</td>\n",
       "      <td>Enzyme-&gt;Kinase-&gt;Protein Kinase-&gt;Atypical prote...</td>\n",
       "      <td>Homo sapiens (Human)</td>\n",
       "    </tr>\n",
       "    <tr>\n",
       "      <th>8</th>\n",
       "      <td>AAUUQPVYBGHMCE_on_P78527_WT</td>\n",
       "      <td>High</td>\n",
       "      <td>ChEMBL34</td>\n",
       "      <td>ChEMBL:CHEMBL2420312</td>\n",
       "      <td>O=C(CN1CCCNCC1)Nc1ccc(-c2cccc3c(=O)cc(N4CCOCC4...</td>\n",
       "      <td>AAUUQPVYBGHMCE</td>\n",
       "      <td>AAUUQPVYBGHMCE-UHFFFAOYSA-N</td>\n",
       "      <td>InChI=1S/C32H32N4O4S/c37-26-19-29(36-15-17-39-...</td>\n",
       "      <td>AuxInfo=1/1/N:38,37,18,6,39,17,19,36,14,13,7,9...</td>\n",
       "      <td>P78527_WT</td>\n",
       "      <td>...</td>\n",
       "      <td>=</td>\n",
       "      <td>7.66</td>\n",
       "      <td>7.660000</td>\n",
       "      <td>0.000000</td>\n",
       "      <td>0.000000</td>\n",
       "      <td>1.0</td>\n",
       "      <td>7.660</td>\n",
       "      <td>0.0</td>\n",
       "      <td>Enzyme-&gt;Kinase-&gt;Protein Kinase-&gt;Atypical prote...</td>\n",
       "      <td>Homo sapiens (Human)</td>\n",
       "    </tr>\n",
       "  </tbody>\n",
       "</table>\n",
       "<p>5 rows × 34 columns</p>\n",
       "</div>"
      ],
      "text/plain": [
       "                   Activity_ID Quality    source  \\\n",
       "0  AAHPRKDUIDQODH_on_P42345_WT    High  ChEMBL34   \n",
       "3  AAKJLRGGTJKAMG_on_Q8NI60_WT    High  ChEMBL34   \n",
       "6  AAMKUWYDJAVAKV_on_P42345_WT    High  ChEMBL34   \n",
       "7  AATCBLYHOUOCTO_on_P42345_WT    High  ChEMBL34   \n",
       "8  AAUUQPVYBGHMCE_on_P78527_WT    High  ChEMBL34   \n",
       "\n",
       "                                                 CID  \\\n",
       "0                               ChEMBL:CHEMBL1097899   \n",
       "3  ChEMBL:CHEMBL553;Christmann2016.compound.50;Ch...   \n",
       "6                               ChEMBL:CHEMBL3112729   \n",
       "7                               ChEMBL:CHEMBL1086377   \n",
       "8                               ChEMBL:CHEMBL2420312   \n",
       "\n",
       "                                              SMILES    connectivity  \\\n",
       "0  CN1CCC(NC(=O)Nc2ccc(-c3nc(N4CCOCC4)c4cnn(C5CCN...  AAHPRKDUIDQODH   \n",
       "3         C#Cc1cccc(Nc2ncnc3cc(OCCOC)c(OCCOC)cc23)c1  AAKJLRGGTJKAMG   \n",
       "6  COc1ncc(-c2cc3c(C)nc(N)cc3n(C3CCCC3)c2=O)cc1NS...  AAMKUWYDJAVAKV   \n",
       "7  CCN1CCN(CC(=O)Nc2ccc(-c3cccc4c(=O)cc(N5CCOCC5)...  AATCBLYHOUOCTO   \n",
       "8  O=C(CN1CCCNCC1)Nc1ccc(-c2cccc3c(=O)cc(N4CCOCC4...  AAUUQPVYBGHMCE   \n",
       "\n",
       "                      InChIKey  \\\n",
       "0  AAHPRKDUIDQODH-UHFFFAOYSA-N   \n",
       "3  AAKJLRGGTJKAMG-UHFFFAOYSA-N   \n",
       "6  AAMKUWYDJAVAKV-UHFFFAOYSA-N   \n",
       "7  AATCBLYHOUOCTO-UHFFFAOYSA-N   \n",
       "8  AAUUQPVYBGHMCE-UHFFFAOYSA-N   \n",
       "\n",
       "                                               InChI  \\\n",
       "0  InChI=1S/C34H43N9O2/c1-40-15-11-28(12-16-40)37...   \n",
       "3  InChI=1S/C22H23N3O4/c1-4-16-6-5-7-17(12-16)25-...   \n",
       "6  InChI=1S/C26H25F2N5O4S/c1-14-18-11-19(26(34)33...   \n",
       "7  InChI=1S/C33H34N4O4S/c1-2-35-12-14-36(15-13-35...   \n",
       "8  InChI=1S/C32H32N4O4S/c37-26-19-29(36-15-17-39-...   \n",
       "\n",
       "                                       InChI_AuxInfo  target_id  ... relation  \\\n",
       "0  AuxInfo=1/1/N:1,35,34,36,33,37,12,42,11,43,4,4...  P42345_WT  ...        =   \n",
       "3  AuxInfo=1/1/N:1,26,20,2,5,4,6,24,18,23,17,29,2...  Q8NI60_WT  ...        =   \n",
       "6  AuxInfo=1/1/N:11,1,20,21,19,22,33,32,25,36,8,1...  P42345_WT  ...        =   \n",
       "7  AuxInfo=1/1/N:1,2,37,36,17,38,16,18,35,13,12,4...  P42345_WT  ...        =   \n",
       "8  AuxInfo=1/1/N:38,37,18,6,39,17,19,36,14,13,7,9...  P78527_WT  ...        =   \n",
       "\n",
       "      pchembl_value pchembl_value_Mean pchembl_value_StdDev pchembl_value_SEM  \\\n",
       "0               6.9           6.900000             0.000000          0.000000   \n",
       "3  5.72;5.721;5.721           5.720667             0.000577          0.000333   \n",
       "6              7.47           7.470000             0.000000          0.000000   \n",
       "7               5.0           5.000000             0.000000          0.000000   \n",
       "8              7.66           7.660000             0.000000          0.000000   \n",
       "\n",
       "   pchembl_value_N pchembl_value_Median pchembl_value_MAD  \\\n",
       "0              1.0                6.900               0.0   \n",
       "3              3.0                5.721               0.0   \n",
       "6              1.0                7.470               0.0   \n",
       "7              1.0                5.000               0.0   \n",
       "8              1.0                7.660               0.0   \n",
       "\n",
       "                                      Classification              Organism  \n",
       "0  Enzyme->Kinase->Protein Kinase->Atypical prote...  Homo sapiens (Human)  \n",
       "3  Enzyme->Kinase->Protein Kinase->Atypical prote...  Homo sapiens (Human)  \n",
       "6  Enzyme->Kinase->Protein Kinase->Atypical prote...  Homo sapiens (Human)  \n",
       "7  Enzyme->Kinase->Protein Kinase->Atypical prote...  Homo sapiens (Human)  \n",
       "8  Enzyme->Kinase->Protein Kinase->Atypical prote...  Homo sapiens (Human)  \n",
       "\n",
       "[5 rows x 34 columns]"
      ]
     },
     "execution_count": 21,
     "metadata": {},
     "output_type": "execute_result"
    }
   ],
   "source": [
    "filtered_data.head()"
   ]
  },
  {
   "cell_type": "code",
   "execution_count": 20,
   "metadata": {},
   "outputs": [],
   "source": [
    "backup = filtered_data\n",
    "singletask_data = filtered_data\n",
    "multitask_data = filtered_data"
   ]
  },
  {
   "cell_type": "code",
   "execution_count": 20,
   "metadata": {},
   "outputs": [],
   "source": [
    "##REGRESSION MODEL"
   ]
  },
  {
   "cell_type": "code",
   "execution_count": null,
   "metadata": {},
   "outputs": [],
   "source": [
    "from qsprpred.data import QSPRDataset\n",
    "import os\n",
    "\n",
    "os.makedirs(\"tutorial_output_splitdraft/data\", exist_ok=True)\n",
    "\n",
    "dataset_st = QSPRDataset(\n",
    "    df=singletask_data,\n",
    "    store_dir=\"tutorial_output_splitdraft/data\",\n",
    "    name=\"QuickStartDataset\",\n",
    "    target_props=[{\"name\": \"pchembl_value_Mean\", \"task\": \"REGRESSION\"}],\n",
    "    random_state=42,\n",
    "    overwrite=True\n",
    ")\n",
    "\n",
    "dataset_st.getDF()"
   ]
  },
  {
   "cell_type": "code",
   "execution_count": null,
   "metadata": {},
   "outputs": [],
   "source": [
    "from qsprpred.data.descriptors.fingerprints import MorganFP\n",
    "from qsprpred.data import RandomSplit\n",
    "\n",
    "# Specifiy random split for creating the train (80%) and test set (20%)\n",
    "rand_split = RandomSplit(test_fraction=0.2, dataset=dataset_st)\n",
    "## Alt splits: ScaffoldSplit(/ter), TemporalSplit/StratisfiedSplitter, ManualSplit, BootstrapSplit,\n",
    "## GMBTDataSplit: GBMTRandomSplit, ClusterSplit\n",
    "# calculate compound features and split dataset into train and test\n",
    "dataset_st.prepareDataset(\n",
    "    split=rand_split,\n",
    "    feature_calculators=[MorganFP(radius=3, nBits=2048)],\n",
    ")\n",
    "\n",
    "print(f\"Number of samples in train set: {len(dataset_st.y)}\")\n",
    "print(f\"Number of samples in test set: {len(dataset_st.y_ind)}\")\n",
    "\n",
    "dataset_st.save()"
   ]
  },
  {
   "cell_type": "code",
   "execution_count": 23,
   "metadata": {},
   "outputs": [],
   "source": [
    "from qsprpred.models import SklearnModel\n",
    "from sklearn.neighbors import KNeighborsRegressor\n",
    "from qsprpred.models import CrossValAssessor, TestSetAssessor\n",
    "\n",
    "os.makedirs(\"tutorial_output_splitdraft/models\", exist_ok=True)\n",
    "\n",
    "# This is an SKlearn model, so we will initialize it with the SklearnModel class\n",
    "stmodel = SklearnModel(\n",
    "    base_dir=\"tutorial_output_splitdraft/models\",\n",
    "    alg=KNeighborsRegressor,\n",
    "    name=\"QuickStartModel\"\n",
    ")\n",
    "\n",
    "# We can now assess the model performance on the training set using cross validation\n",
    "CrossValAssessor(\"r2\")(stmodel, dataset_st)\n",
    "\n",
    "# and on the test set\n",
    "TestSetAssessor(\"r2\")(stmodel, dataset_st)\n",
    "\n",
    "# Finally, we need to fit the model on the complete dataset if we want to use it further\n",
    "# This will save the fitted model and metadata to disk\n",
    "stmodel.fitDataset(dataset_st)\n",
    "\n",
    "# We can optionally save the model and metadata to disk explicitly as well\n",
    "_ = stmodel.save()"
   ]
  },
  {
   "cell_type": "code",
   "execution_count": null,
   "metadata": {},
   "outputs": [],
   "source": [
    "from qsprpred.plotting.regression import CorrelationPlot\n",
    "\n",
    "stplot = CorrelationPlot([stmodel])\n",
    "axes, summary = stplot.make(save=True, show=True)"
   ]
  },
  {
   "cell_type": "code",
   "execution_count": null,
   "metadata": {},
   "outputs": [],
   "source": [
    "summary"
   ]
  },
  {
   "cell_type": "code",
   "execution_count": 26,
   "metadata": {},
   "outputs": [],
   "source": [
    "##PREDICT FOR SMILES INPUT\n",
    "#smiles_list = [\"c1(cc(c(O)cc1)O)CCN\", \"CC(=O)OC1=CC=CC=C1C(=O)O\",\n",
    "#               \"CC(C)CC1=CC=C(C=C1)C(C)C(=O)O\"]\n",
    "\n",
    "#model.predictMols(smiles_list)"
   ]
  },
  {
   "cell_type": "code",
   "execution_count": 27,
   "metadata": {},
   "outputs": [],
   "source": [
    "##RELOAD REGRESSION MODEL\n",
    "#dataset = QSPRDataset.fromFile(\n",
    "#    \"./tutorial_output/data/QuickStartDataset/QuickStartDataset_meta.json\")\n",
    "#model = SklearnModel.fromFile(\n",
    "#    \"./tutorial_output/models/QuickStartModel/QuickStartModel_meta.json\")\n",
    "## or\n",
    "#dataset = QSPRDataset(\n",
    "#    name=\"QuickStartDataset\",\n",
    "#    store_dir=\"./tutorial_output/data/\",\n",
    "#)\n",
    "#model = SklearnModel(\n",
    "#    name=\"QuickStartModel\",\n",
    "#    base_dir=\"./tutorial_output/models/\"\n",
    "#)"
   ]
  },
  {
   "cell_type": "code",
   "execution_count": 28,
   "metadata": {},
   "outputs": [],
   "source": [
    "## MULTITASK REGRESSION MODEL"
   ]
  },
  {
   "cell_type": "code",
   "execution_count": null,
   "metadata": {},
   "outputs": [],
   "source": [
    "import os\n",
    "\n",
    "import pandas as pd\n",
    "\n",
    "# load the data\n",
    "mtdf = multitask_data\n",
    "\n",
    "display(mtdf.head())"
   ]
  },
  {
   "cell_type": "code",
   "execution_count": null,
   "metadata": {},
   "outputs": [],
   "source": [
    "# pivot the dataframe to have the accession as columns\n",
    "mtdf = mtdf.pivot_table(index=\"SMILES\", columns=\"accession\", values=\"pchembl_value_Mean\")\n",
    "#df.columns.name = None\n",
    "mtdf.reset_index(inplace=True)\n",
    "print(mtdf.columns)\n",
    "\n",
    "display(mtdf.head())\n",
    "#Teams message + delete smiles"
   ]
  },
  {
   "cell_type": "code",
   "execution_count": null,
   "metadata": {},
   "outputs": [],
   "source": [
    "column_list = list(mtdf.columns)\n",
    "print (column_list)"
   ]
  },
  {
   "cell_type": "code",
   "execution_count": null,
   "metadata": {},
   "outputs": [],
   "source": [
    "del column_list[0:1]\n",
    "print(column_list)"
   ]
  },
  {
   "cell_type": "code",
   "execution_count": 33,
   "metadata": {},
   "outputs": [],
   "source": [
    "from qsprpred.data import QSPRDataset\n",
    "from sklearn.impute import SimpleImputer\n",
    "\n",
    "target_props = []\n",
    "for target in column_list:\n",
    "    target_props.append({'name': target, 'task': \"REGRESSION\", \"imputer\": SimpleImputer(strategy=\"constant\")})"
   ]
  },
  {
   "cell_type": "code",
   "execution_count": null,
   "metadata": {},
   "outputs": [],
   "source": [
    "print(target_props)"
   ]
  },
  {
   "cell_type": "code",
   "execution_count": null,
   "metadata": {},
   "outputs": [],
   "source": [
    "dataset_mt = QSPRDataset(\n",
    "    name=\"MultiTaskTutorialDataset\",\n",
    "    df=mtdf,\n",
    "    target_props=target_props,\n",
    "    store_dir=\"../../tutorial_output_splitdraft_mt/data\",\n",
    "    random_state=42,\n",
    "    drop_empty=False,\n",
    "    overwrite=True\n",
    ")\n",
    "\n",
    "dataset_mt.getDF()"
   ]
  },
  {
   "cell_type": "code",
   "execution_count": null,
   "metadata": {},
   "outputs": [],
   "source": [
    "from qsprpred.models import SklearnMetrics\n",
    "from qsprpred.models import MaskedMetric\n",
    "import numpy as np\n",
    "\n",
    "r2_score = SklearnMetrics(\"r2\")\n",
    "masked_metric = MaskedMetric(metric=SklearnMetrics(\"r2\"))\n",
    "\n",
    "y_true = np.array([1.0, 1.1, None, 1.3, 1.4, 1.5, 1.6, None, 1.8, 1.9], dtype=float)\n",
    "y_pred = np.array([0.9, 1.0, 3.2, 1.1, 1.2, 1.2, 1.7, 1.5, 1.5, 2.1], dtype=float)\n",
    "\n",
    "# Default behavior\n",
    "try:\n",
    "    r2_score(y_true, y_pred)\n",
    "except ValueError as e:\n",
    "    print(f\"Missing values are not supported by default: {e}\")\n",
    "\n",
    "# Masked behavior: skip the masked values\n",
    "masked_metric(y_true, y_pred)"
   ]
  },
  {
   "cell_type": "code",
   "execution_count": null,
   "metadata": {},
   "outputs": [],
   "source": [
    "from qsprpred.data.descriptors.fingerprints import MorganFP\n",
    "from qsprpred.data import RandomSplit\n",
    "\n",
    "# calculate compound features and split dataset into train and test\n",
    "dataset_mt.prepareDataset(\n",
    "    split=RandomSplit(test_fraction=0.2, dataset=dataset_mt),\n",
    "    feature_calculators=[MorganFP(radius=3, nBits=2048)]\n",
    ")\n",
    "\n",
    "print(f\"Number of samples train set: {len(dataset_mt.y)}\")\n",
    "print(f\"Number of samples test set: {len(dataset_mt.y_ind)}\")\n",
    "\n",
    "dataset_mt.save()"
   ]
  },
  {
   "cell_type": "code",
   "execution_count": null,
   "metadata": {},
   "outputs": [],
   "source": [
    "from qsprpred.models import SklearnModel\n",
    "from sklearn.neighbors import KNeighborsRegressor\n",
    "from qsprpred.models import CrossValAssessor, TestSetAssessor\n",
    "\n",
    "os.makedirs('../../tutorial_output_splitdraft_mt/models', exist_ok=True)\n",
    "\n",
    "# This is an SKlearn model, so we will initialize it with the SklearnModel class\n",
    "mtmodel = SklearnModel(\n",
    "    base_dir='../../tutorial_output_splitdraft_mt/models',\n",
    "    alg=KNeighborsRegressor,\n",
    "    name='MultiTaskTutorialModel')\n",
    "\n",
    "CrossValAssessor('r2', split_multitask_scores=True)(mtmodel, dataset_mt)\n",
    "TestSetAssessor('r2')(mtmodel, dataset_mt)\n",
    "\n",
    "# Finally, we need to fit the model on the complete dataset if we want to use it further\n",
    "mtmodel.fitDataset(dataset_mt)\n",
    "\n",
    "# and save the model\n",
    "_ = mtmodel.save()"
   ]
  },
  {
   "cell_type": "code",
   "execution_count": null,
   "metadata": {},
   "outputs": [],
   "source": [
    "import pandas as pd\n",
    "from sklearn.metrics import explained_variance_score, mean_absolute_error, \\\n",
    "    mean_squared_error, r2_score\n",
    "\n",
    "# get independent test set\n",
    "mtdf = pd.read_table(\n",
    "    \"../../tutorial_output_splitdraft_mt/models/MultiTaskTutorialModel/MultiTaskTutorialModel.ind.tsv\")\n",
    "\n",
    "# column names containing original labels or predictions for the tasks\n",
    "label_names = [i for i in list(mtdf.columns.values) if \"Label\" in i]\n",
    "pred_names = [i for i in list(mtdf.columns.values) if \"Prediction\" in i]\n",
    "\n",
    "# turn into np array\n",
    "ylabel = mtdf[label_names].to_numpy()\n",
    "ypred = mtdf[pred_names].to_numpy()\n",
    "\n",
    "# get metrics\n",
    "summary = {}\n",
    "for metric in [explained_variance_score, mean_absolute_error, mean_squared_error,\n",
    "               r2_score]:\n",
    "    score = metric(ylabel, ypred)\n",
    "    summary[metric.__name__] = score\n",
    "\n",
    "summary[\"MTModelName\"] = mtmodel.name\n",
    "\n",
    "summary"
   ]
  },
  {
   "cell_type": "code",
   "execution_count": null,
   "metadata": {},
   "outputs": [],
   "source": [
    "from qsprpred.plotting.regression import CorrelationPlot\n",
    "plot = CorrelationPlot([mtmodel])\n",
    "axes, summary = plot.make(save=False, show=True)"
   ]
  },
  {
   "cell_type": "code",
   "execution_count": null,
   "metadata": {},
   "outputs": [],
   "source": [
    "summary"
   ]
  },
  {
   "cell_type": "code",
   "execution_count": 42,
   "metadata": {},
   "outputs": [],
   "source": [
    "##CLASSIFICATION MODEL"
   ]
  },
  {
   "cell_type": "code",
   "execution_count": 43,
   "metadata": {},
   "outputs": [],
   "source": [
    "# https://github.com/CDDLeiden/QSPRpred/blob/main/tutorials/basics/modelling/classification.ipynb\n",
    "# Discuss with Marc -> threshold & differences singletask and multitask\n",
    "# Also: split for regression model"
   ]
  },
  {
   "cell_type": "code",
   "execution_count": null,
   "metadata": {},
   "outputs": [],
   "source": []
  }
 ],
 "metadata": {
  "kernelspec": {
   "display_name": "drugex_env",
   "language": "python",
   "name": "python3"
  },
  "language_info": {
   "codemirror_mode": {
    "name": "ipython",
    "version": 3
   },
   "file_extension": ".py",
   "mimetype": "text/x-python",
   "name": "python",
   "nbconvert_exporter": "python",
   "pygments_lexer": "ipython3",
   "version": "3.12.7"
  }
 },
 "nbformat": 4,
 "nbformat_minor": 2
}
